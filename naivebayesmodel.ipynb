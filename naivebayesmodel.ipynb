{
  "cells": [
    {
      "cell_type": "markdown",
      "metadata": {
        "id": "view-in-github",
        "colab_type": "text"
      },
      "source": [
        "<a href=\"https://colab.research.google.com/github/josephjvalavi/miniproject/blob/main/naivebayesmodel.ipynb\" target=\"_parent\"><img src=\"https://colab.research.google.com/assets/colab-badge.svg\" alt=\"Open In Colab\"/></a>"
      ]
    },
    {
      "cell_type": "code",
      "execution_count": 15,
      "metadata": {
        "id": "xqZcHaJJsQ8D"
      },
      "outputs": [],
      "source": [
        "import pandas as pd\n",
        "import seaborn as sb\n",
        "import nltk\n",
        "import re\n",
        "import warnings\n",
        "from sklearn import preprocessing\n",
        "from nltk.corpus import stopwords\n",
        "from nltk.tokenize import word_tokenize\n",
        "from wordcloud import WordCloud \n",
        "from sklearn.model_selection import train_test_split\n",
        "from sklearn.feature_extraction.text import CountVectorizer\n",
        "from sklearn.feature_extraction.text import TfidfVectorizer\n",
        "from sklearn.metrics import accuracy_score,precision_score, classification_report\n",
        "from sklearn import linear_model\n",
        "from sklearn.metrics import confusion_matrix\n",
        "from sklearn.naive_bayes import MultinomialNB"
      ]
    },
    {
      "cell_type": "code",
      "execution_count": 3,
      "metadata": {
        "id": "N0lkrnHzsojP"
      },
      "outputs": [],
      "source": [
        "df=pd.read_csv(\"/content/bbc-text.csv.zip\")"
      ]
    },
    {
      "cell_type": "code",
      "execution_count": 4,
      "metadata": {
        "colab": {
          "base_uri": "https://localhost:8080/"
        },
        "id": "WQ3JyqCNseyF",
        "outputId": "3dd6f89e-a346-4ab8-ce6c-ee2fcb5db0df"
      },
      "outputs": [
        {
          "output_type": "stream",
          "name": "stdout",
          "text": [
            "[nltk_data] Downloading package stopwords to /root/nltk_data...\n",
            "[nltk_data]   Package stopwords is already up-to-date!\n",
            "[nltk_data] Downloading package punkt to /root/nltk_data...\n",
            "[nltk_data]   Package punkt is already up-to-date!\n"
          ]
        },
        {
          "output_type": "execute_result",
          "data": {
            "text/plain": [
              "True"
            ]
          },
          "metadata": {},
          "execution_count": 4
        }
      ],
      "source": [
        "import nltk\n",
        "nltk.download('stopwords')\n",
        "import nltk\n",
        "nltk.download('punkt')"
      ]
    },
    {
      "cell_type": "markdown",
      "source": [
        "label encoding"
      ],
      "metadata": {
        "id": "fYOlvLSQPM3d"
      }
    },
    {
      "cell_type": "code",
      "source": [
        "label_encoder=preprocessing.LabelEncoder()\n",
        "df[\"category_encoded\"]=label_encoder.fit_transform(df['category'])\n",
        "print(label_encoder.classes_)\n",
        "df.head()"
      ],
      "metadata": {
        "colab": {
          "base_uri": "https://localhost:8080/",
          "height": 267
        },
        "id": "1zndPWyEPMTn",
        "outputId": "95540876-0990-4cf7-b6da-332930fdfdd2"
      },
      "execution_count": 31,
      "outputs": [
        {
          "output_type": "stream",
          "name": "stdout",
          "text": [
            "['business' 'entertainment' 'politics' 'sport' 'tech']\n"
          ]
        },
        {
          "output_type": "execute_result",
          "data": {
            "text/html": [
              "\n",
              "  <div id=\"df-66e827a5-c363-4f24-8b0e-cb638fae53e6\">\n",
              "    <div class=\"colab-df-container\">\n",
              "      <div>\n",
              "<style scoped>\n",
              "    .dataframe tbody tr th:only-of-type {\n",
              "        vertical-align: middle;\n",
              "    }\n",
              "\n",
              "    .dataframe tbody tr th {\n",
              "        vertical-align: top;\n",
              "    }\n",
              "\n",
              "    .dataframe thead th {\n",
              "        text-align: right;\n",
              "    }\n",
              "</style>\n",
              "<table border=\"1\" class=\"dataframe\">\n",
              "  <thead>\n",
              "    <tr style=\"text-align: right;\">\n",
              "      <th></th>\n",
              "      <th>category</th>\n",
              "      <th>text</th>\n",
              "      <th>category_encoded</th>\n",
              "      <th>text_parsed</th>\n",
              "    </tr>\n",
              "  </thead>\n",
              "  <tbody>\n",
              "    <tr>\n",
              "      <th>0</th>\n",
              "      <td>tech</td>\n",
              "      <td>tv future in the hands of viewers with home th...</td>\n",
              "      <td>4</td>\n",
              "      <td>tv future hands viewers home theatre systems p...</td>\n",
              "    </tr>\n",
              "    <tr>\n",
              "      <th>1</th>\n",
              "      <td>business</td>\n",
              "      <td>worldcom boss  left books alone  former worldc...</td>\n",
              "      <td>0</td>\n",
              "      <td>worldcom boss left books alone former worldcom...</td>\n",
              "    </tr>\n",
              "    <tr>\n",
              "      <th>2</th>\n",
              "      <td>sport</td>\n",
              "      <td>tigers wary of farrell  gamble  leicester say ...</td>\n",
              "      <td>3</td>\n",
              "      <td>tigers wary farrell gamble leicester say rushe...</td>\n",
              "    </tr>\n",
              "    <tr>\n",
              "      <th>3</th>\n",
              "      <td>sport</td>\n",
              "      <td>yeading face newcastle in fa cup premiership s...</td>\n",
              "      <td>3</td>\n",
              "      <td>yeading face newcastle fa cup premiership side...</td>\n",
              "    </tr>\n",
              "    <tr>\n",
              "      <th>4</th>\n",
              "      <td>entertainment</td>\n",
              "      <td>ocean s twelve raids box office ocean s twelve...</td>\n",
              "      <td>1</td>\n",
              "      <td>ocean twelve raids box office ocean twelve cri...</td>\n",
              "    </tr>\n",
              "  </tbody>\n",
              "</table>\n",
              "</div>\n",
              "      <button class=\"colab-df-convert\" onclick=\"convertToInteractive('df-66e827a5-c363-4f24-8b0e-cb638fae53e6')\"\n",
              "              title=\"Convert this dataframe to an interactive table.\"\n",
              "              style=\"display:none;\">\n",
              "        \n",
              "  <svg xmlns=\"http://www.w3.org/2000/svg\" height=\"24px\"viewBox=\"0 0 24 24\"\n",
              "       width=\"24px\">\n",
              "    <path d=\"M0 0h24v24H0V0z\" fill=\"none\"/>\n",
              "    <path d=\"M18.56 5.44l.94 2.06.94-2.06 2.06-.94-2.06-.94-.94-2.06-.94 2.06-2.06.94zm-11 1L8.5 8.5l.94-2.06 2.06-.94-2.06-.94L8.5 2.5l-.94 2.06-2.06.94zm10 10l.94 2.06.94-2.06 2.06-.94-2.06-.94-.94-2.06-.94 2.06-2.06.94z\"/><path d=\"M17.41 7.96l-1.37-1.37c-.4-.4-.92-.59-1.43-.59-.52 0-1.04.2-1.43.59L10.3 9.45l-7.72 7.72c-.78.78-.78 2.05 0 2.83L4 21.41c.39.39.9.59 1.41.59.51 0 1.02-.2 1.41-.59l7.78-7.78 2.81-2.81c.8-.78.8-2.07 0-2.86zM5.41 20L4 18.59l7.72-7.72 1.47 1.35L5.41 20z\"/>\n",
              "  </svg>\n",
              "      </button>\n",
              "      \n",
              "  <style>\n",
              "    .colab-df-container {\n",
              "      display:flex;\n",
              "      flex-wrap:wrap;\n",
              "      gap: 12px;\n",
              "    }\n",
              "\n",
              "    .colab-df-convert {\n",
              "      background-color: #E8F0FE;\n",
              "      border: none;\n",
              "      border-radius: 50%;\n",
              "      cursor: pointer;\n",
              "      display: none;\n",
              "      fill: #1967D2;\n",
              "      height: 32px;\n",
              "      padding: 0 0 0 0;\n",
              "      width: 32px;\n",
              "    }\n",
              "\n",
              "    .colab-df-convert:hover {\n",
              "      background-color: #E2EBFA;\n",
              "      box-shadow: 0px 1px 2px rgba(60, 64, 67, 0.3), 0px 1px 3px 1px rgba(60, 64, 67, 0.15);\n",
              "      fill: #174EA6;\n",
              "    }\n",
              "\n",
              "    [theme=dark] .colab-df-convert {\n",
              "      background-color: #3B4455;\n",
              "      fill: #D2E3FC;\n",
              "    }\n",
              "\n",
              "    [theme=dark] .colab-df-convert:hover {\n",
              "      background-color: #434B5C;\n",
              "      box-shadow: 0px 1px 3px 1px rgba(0, 0, 0, 0.15);\n",
              "      filter: drop-shadow(0px 1px 2px rgba(0, 0, 0, 0.3));\n",
              "      fill: #FFFFFF;\n",
              "    }\n",
              "  </style>\n",
              "\n",
              "      <script>\n",
              "        const buttonEl =\n",
              "          document.querySelector('#df-66e827a5-c363-4f24-8b0e-cb638fae53e6 button.colab-df-convert');\n",
              "        buttonEl.style.display =\n",
              "          google.colab.kernel.accessAllowed ? 'block' : 'none';\n",
              "\n",
              "        async function convertToInteractive(key) {\n",
              "          const element = document.querySelector('#df-66e827a5-c363-4f24-8b0e-cb638fae53e6');\n",
              "          const dataTable =\n",
              "            await google.colab.kernel.invokeFunction('convertToInteractive',\n",
              "                                                     [key], {});\n",
              "          if (!dataTable) return;\n",
              "\n",
              "          const docLinkHtml = 'Like what you see? Visit the ' +\n",
              "            '<a target=\"_blank\" href=https://colab.research.google.com/notebooks/data_table.ipynb>data table notebook</a>'\n",
              "            + ' to learn more about interactive tables.';\n",
              "          element.innerHTML = '';\n",
              "          dataTable['output_type'] = 'display_data';\n",
              "          await google.colab.output.renderOutput(dataTable, element);\n",
              "          const docLink = document.createElement('div');\n",
              "          docLink.innerHTML = docLinkHtml;\n",
              "          element.appendChild(docLink);\n",
              "        }\n",
              "      </script>\n",
              "    </div>\n",
              "  </div>\n",
              "  "
            ],
            "text/plain": [
              "        category  ...                                        text_parsed\n",
              "0           tech  ...  tv future hands viewers home theatre systems p...\n",
              "1       business  ...  worldcom boss left books alone former worldcom...\n",
              "2          sport  ...  tigers wary farrell gamble leicester say rushe...\n",
              "3          sport  ...  yeading face newcastle fa cup premiership side...\n",
              "4  entertainment  ...  ocean twelve raids box office ocean twelve cri...\n",
              "\n",
              "[5 rows x 4 columns]"
            ]
          },
          "metadata": {},
          "execution_count": 31
        }
      ]
    },
    {
      "cell_type": "markdown",
      "metadata": {
        "id": "w4H4j2WKs0kI"
      },
      "source": [
        "TEXT PREPROSSING"
      ]
    },
    {
      "cell_type": "code",
      "execution_count": 6,
      "metadata": {
        "id": "i8I41gCns6Ze"
      },
      "outputs": [],
      "source": [
        "\n",
        "def process_text(text):\n",
        "    stop_words = set(stopwords.words('english'))\n",
        "    text = text.lower().replace('\\n',' ').replace('\\r','').strip()\n",
        "    text = re.sub(' +', ' ', text)\n",
        "    text = re.sub(r'[^\\w\\s]','',text)\n",
        "\n",
        "    tokens=word_tokenize(text)\n",
        "    filtered_sentence=[]\n",
        "    for f in tokens:\n",
        "      if f not in stop_words:\n",
        "        filtered_sentence.append(f) \n",
        "    text = \" \".join(filtered_sentence)\n",
        "    return(text)\n"
      ]
    },
    {
      "cell_type": "code",
      "execution_count": 7,
      "metadata": {
        "id": "zryTLQR2vN8v"
      },
      "outputs": [],
      "source": [
        "text=\"Brendan Taylor Admits To Being Approached By Bookies, Says ICC Will? Impose Multi-Year Ban On Him\"\n",
        "\n",
        "text_parsed=process_text(text)\n"
      ]
    },
    {
      "cell_type": "code",
      "execution_count": 8,
      "metadata": {
        "colab": {
          "base_uri": "https://localhost:8080/",
          "height": 250
        },
        "id": "OWdDSHxdEyrt",
        "outputId": "79b25236-30b0-40b3-961e-fcb43561fc96"
      },
      "outputs": [
        {
          "output_type": "execute_result",
          "data": {
            "text/html": [
              "\n",
              "  <div id=\"df-7aeb2053-5e91-4899-9c3c-c36a93b5e0f2\">\n",
              "    <div class=\"colab-df-container\">\n",
              "      <div>\n",
              "<style scoped>\n",
              "    .dataframe tbody tr th:only-of-type {\n",
              "        vertical-align: middle;\n",
              "    }\n",
              "\n",
              "    .dataframe tbody tr th {\n",
              "        vertical-align: top;\n",
              "    }\n",
              "\n",
              "    .dataframe thead th {\n",
              "        text-align: right;\n",
              "    }\n",
              "</style>\n",
              "<table border=\"1\" class=\"dataframe\">\n",
              "  <thead>\n",
              "    <tr style=\"text-align: right;\">\n",
              "      <th></th>\n",
              "      <th>category</th>\n",
              "      <th>text</th>\n",
              "      <th>category_encoded</th>\n",
              "      <th>text_parsed</th>\n",
              "    </tr>\n",
              "  </thead>\n",
              "  <tbody>\n",
              "    <tr>\n",
              "      <th>0</th>\n",
              "      <td>tech</td>\n",
              "      <td>tv future in the hands of viewers with home th...</td>\n",
              "      <td>4</td>\n",
              "      <td>tv future hands viewers home theatre systems p...</td>\n",
              "    </tr>\n",
              "    <tr>\n",
              "      <th>1</th>\n",
              "      <td>business</td>\n",
              "      <td>worldcom boss  left books alone  former worldc...</td>\n",
              "      <td>0</td>\n",
              "      <td>worldcom boss left books alone former worldcom...</td>\n",
              "    </tr>\n",
              "    <tr>\n",
              "      <th>2</th>\n",
              "      <td>sport</td>\n",
              "      <td>tigers wary of farrell  gamble  leicester say ...</td>\n",
              "      <td>3</td>\n",
              "      <td>tigers wary farrell gamble leicester say rushe...</td>\n",
              "    </tr>\n",
              "    <tr>\n",
              "      <th>3</th>\n",
              "      <td>sport</td>\n",
              "      <td>yeading face newcastle in fa cup premiership s...</td>\n",
              "      <td>3</td>\n",
              "      <td>yeading face newcastle fa cup premiership side...</td>\n",
              "    </tr>\n",
              "    <tr>\n",
              "      <th>4</th>\n",
              "      <td>entertainment</td>\n",
              "      <td>ocean s twelve raids box office ocean s twelve...</td>\n",
              "      <td>1</td>\n",
              "      <td>ocean twelve raids box office ocean twelve cri...</td>\n",
              "    </tr>\n",
              "  </tbody>\n",
              "</table>\n",
              "</div>\n",
              "      <button class=\"colab-df-convert\" onclick=\"convertToInteractive('df-7aeb2053-5e91-4899-9c3c-c36a93b5e0f2')\"\n",
              "              title=\"Convert this dataframe to an interactive table.\"\n",
              "              style=\"display:none;\">\n",
              "        \n",
              "  <svg xmlns=\"http://www.w3.org/2000/svg\" height=\"24px\"viewBox=\"0 0 24 24\"\n",
              "       width=\"24px\">\n",
              "    <path d=\"M0 0h24v24H0V0z\" fill=\"none\"/>\n",
              "    <path d=\"M18.56 5.44l.94 2.06.94-2.06 2.06-.94-2.06-.94-.94-2.06-.94 2.06-2.06.94zm-11 1L8.5 8.5l.94-2.06 2.06-.94-2.06-.94L8.5 2.5l-.94 2.06-2.06.94zm10 10l.94 2.06.94-2.06 2.06-.94-2.06-.94-.94-2.06-.94 2.06-2.06.94z\"/><path d=\"M17.41 7.96l-1.37-1.37c-.4-.4-.92-.59-1.43-.59-.52 0-1.04.2-1.43.59L10.3 9.45l-7.72 7.72c-.78.78-.78 2.05 0 2.83L4 21.41c.39.39.9.59 1.41.59.51 0 1.02-.2 1.41-.59l7.78-7.78 2.81-2.81c.8-.78.8-2.07 0-2.86zM5.41 20L4 18.59l7.72-7.72 1.47 1.35L5.41 20z\"/>\n",
              "  </svg>\n",
              "      </button>\n",
              "      \n",
              "  <style>\n",
              "    .colab-df-container {\n",
              "      display:flex;\n",
              "      flex-wrap:wrap;\n",
              "      gap: 12px;\n",
              "    }\n",
              "\n",
              "    .colab-df-convert {\n",
              "      background-color: #E8F0FE;\n",
              "      border: none;\n",
              "      border-radius: 50%;\n",
              "      cursor: pointer;\n",
              "      display: none;\n",
              "      fill: #1967D2;\n",
              "      height: 32px;\n",
              "      padding: 0 0 0 0;\n",
              "      width: 32px;\n",
              "    }\n",
              "\n",
              "    .colab-df-convert:hover {\n",
              "      background-color: #E2EBFA;\n",
              "      box-shadow: 0px 1px 2px rgba(60, 64, 67, 0.3), 0px 1px 3px 1px rgba(60, 64, 67, 0.15);\n",
              "      fill: #174EA6;\n",
              "    }\n",
              "\n",
              "    [theme=dark] .colab-df-convert {\n",
              "      background-color: #3B4455;\n",
              "      fill: #D2E3FC;\n",
              "    }\n",
              "\n",
              "    [theme=dark] .colab-df-convert:hover {\n",
              "      background-color: #434B5C;\n",
              "      box-shadow: 0px 1px 3px 1px rgba(0, 0, 0, 0.15);\n",
              "      filter: drop-shadow(0px 1px 2px rgba(0, 0, 0, 0.3));\n",
              "      fill: #FFFFFF;\n",
              "    }\n",
              "  </style>\n",
              "\n",
              "      <script>\n",
              "        const buttonEl =\n",
              "          document.querySelector('#df-7aeb2053-5e91-4899-9c3c-c36a93b5e0f2 button.colab-df-convert');\n",
              "        buttonEl.style.display =\n",
              "          google.colab.kernel.accessAllowed ? 'block' : 'none';\n",
              "\n",
              "        async function convertToInteractive(key) {\n",
              "          const element = document.querySelector('#df-7aeb2053-5e91-4899-9c3c-c36a93b5e0f2');\n",
              "          const dataTable =\n",
              "            await google.colab.kernel.invokeFunction('convertToInteractive',\n",
              "                                                     [key], {});\n",
              "          if (!dataTable) return;\n",
              "\n",
              "          const docLinkHtml = 'Like what you see? Visit the ' +\n",
              "            '<a target=\"_blank\" href=https://colab.research.google.com/notebooks/data_table.ipynb>data table notebook</a>'\n",
              "            + ' to learn more about interactive tables.';\n",
              "          element.innerHTML = '';\n",
              "          dataTable['output_type'] = 'display_data';\n",
              "          await google.colab.output.renderOutput(dataTable, element);\n",
              "          const docLink = document.createElement('div');\n",
              "          docLink.innerHTML = docLinkHtml;\n",
              "          element.appendChild(docLink);\n",
              "        }\n",
              "      </script>\n",
              "    </div>\n",
              "  </div>\n",
              "  "
            ],
            "text/plain": [
              "        category  ...                                        text_parsed\n",
              "0           tech  ...  tv future hands viewers home theatre systems p...\n",
              "1       business  ...  worldcom boss left books alone former worldcom...\n",
              "2          sport  ...  tigers wary farrell gamble leicester say rushe...\n",
              "3          sport  ...  yeading face newcastle fa cup premiership side...\n",
              "4  entertainment  ...  ocean twelve raids box office ocean twelve cri...\n",
              "\n",
              "[5 rows x 4 columns]"
            ]
          },
          "metadata": {},
          "execution_count": 8
        }
      ],
      "source": [
        "df['text_parsed']=df['text'].apply(process_text)\n",
        "df.head()"
      ]
    },
    {
      "cell_type": "markdown",
      "metadata": {
        "id": "xTWJE0fitaio"
      },
      "source": [
        "TFIDF VECTORIZER"
      ]
    },
    {
      "cell_type": "code",
      "execution_count": 9,
      "metadata": {
        "id": "bZ4zbXI_taCe"
      },
      "outputs": [],
      "source": [
        "ngram_range = (1,2)\n",
        "min_df = 10\n",
        "max_df = 1.\n",
        "max_features=300\n",
        "tfidf = TfidfVectorizer(encoding='utf-8',\n",
        "                        ngram_range=ngram_range,\n",
        "                        stop_words=None,\n",
        "                        lowercase=False,\n",
        "                        max_df=max_df,\n",
        "                        min_df=min_df,\n",
        "                        max_features=max_features,\n",
        "                        norm='l2',\n",
        "                        sublinear_tf=True)"
      ]
    },
    {
      "cell_type": "code",
      "execution_count": 10,
      "metadata": {
        "colab": {
          "base_uri": "https://localhost:8080/"
        },
        "id": "nc9e2qlQvuwC",
        "outputId": "0d411034-e90e-4bc9-c43f-51bc64336e55"
      },
      "outputs": [
        {
          "output_type": "stream",
          "name": "stdout",
          "text": [
            "[[0.07199503 0.         0.         ... 0.         0.         0.10580018]\n",
            " [0.12758554 0.         0.16367708 ... 0.         0.         0.        ]\n",
            " [0.         0.         0.         ... 0.14676836 0.         0.        ]\n",
            " ...\n",
            " [0.13821124 0.15165403 0.         ... 0.         0.         0.        ]\n",
            " [0.08376321 0.         0.         ... 0.09314834 0.         0.        ]\n",
            " [0.         0.         0.         ... 0.13041569 0.14235608 0.        ]]\n",
            "0       4\n",
            "1       0\n",
            "2       3\n",
            "3       3\n",
            "4       1\n",
            "       ..\n",
            "2220    0\n",
            "2221    2\n",
            "2222    1\n",
            "2223    2\n",
            "2224    3\n",
            "Name: category_encoded, Length: 2225, dtype: int64\n"
          ]
        }
      ],
      "source": [
        "X=  tfidf.fit_transform(df[\"text_parsed\"]).toarray()\n",
        "print(X)\n",
        "y=df[\"category_encoded\"]\n",
        "print(y)\n"
      ]
    },
    {
      "cell_type": "markdown",
      "source": [
        "traintest split"
      ],
      "metadata": {
        "id": "ovR8O_MlQVGy"
      }
    },
    {
      "cell_type": "code",
      "source": [
        "X_train,X_test,y_train,y_test=train_test_split(X,y,test_size=0.2,random_state=8)\n",
        "print(X_train)\n",
        "print(X_test)"
      ],
      "metadata": {
        "colab": {
          "base_uri": "https://localhost:8080/"
        },
        "id": "IC2WeBSFQXdZ",
        "outputId": "2a477a3f-462e-42e9-d9ed-92a4ac722da4"
      },
      "execution_count": 11,
      "outputs": [
        {
          "output_type": "stream",
          "name": "stdout",
          "text": [
            "[[0.         0.20322455 0.         ... 0.         0.         0.        ]\n",
            " [0.         0.         0.3058487  ... 0.09248102 0.         0.12221223]\n",
            " [0.20100217 0.10509429 0.         ... 0.         0.06866601 0.19837261]\n",
            " ...\n",
            " [0.         0.11569346 0.         ... 0.         0.19725067 0.        ]\n",
            " [0.132264   0.         0.         ... 0.         0.         0.        ]\n",
            " [0.11969927 0.         0.         ... 0.07861739 0.         0.        ]]\n",
            "[[0.         0.13540737 0.         ... 0.         0.08847183 0.18134918]\n",
            " [0.         0.         0.         ... 0.10236323 0.         0.        ]\n",
            " [0.10157315 0.         0.         ... 0.         0.         0.        ]\n",
            " ...\n",
            " [0.         0.         0.         ... 0.13491447 0.         0.        ]\n",
            " [0.         0.         0.13771886 ... 0.         0.13030918 0.        ]\n",
            " [0.         0.         0.         ... 0.         0.         0.        ]]\n"
          ]
        }
      ]
    },
    {
      "cell_type": "code",
      "source": [
        "mnb=MultinomialNB()\n",
        "mnb.fit(X_train,y_train)\n",
        "mnb_predictions = mnb.predict(X_test)\n",
        "print(accuracy_score(y_test,mnb_predictions))\n",
        "print(precision_score(y_test,mnb_predictions,average='weighted'))\n",
        "print(mnb_predictions)\n",
        "print(confusion_matrix(y_test,mnb_predictions))\n",
        "print(classification_report(y_test,mnb_predictions))\n",
        "sb.heatmap(confusion_matrix(y_test,mnb_predictions))"
      ],
      "metadata": {
        "colab": {
          "base_uri": "https://localhost:8080/",
          "height": 840
        },
        "id": "7GimttgBQxS1",
        "outputId": "08060de8-c1a5-4b54-8cc8-66a6a42d336e"
      },
      "execution_count": 27,
      "outputs": [
        {
          "output_type": "stream",
          "name": "stdout",
          "text": [
            "0.952808988764045\n",
            "0.953132184009192\n",
            "[3 2 4 2 1 2 2 1 1 4 0 4 2 3 2 3 0 3 0 3 0 3 3 2 0 3 2 1 0 2 0 4 3 0 3 2 0\n",
            " 0 1 0 0 0 0 3 3 1 3 3 4 1 2 0 1 3 0 0 1 3 3 2 1 2 3 2 4 3 1 0 0 1 0 3 1 3\n",
            " 4 0 1 0 2 3 1 1 1 0 0 0 2 1 1 0 1 3 0 4 3 3 4 0 3 0 0 1 2 2 1 0 2 4 4 1 4\n",
            " 3 1 1 4 4 2 0 4 1 3 4 0 1 1 1 1 3 4 2 0 4 0 0 1 3 1 4 0 0 2 1 2 2 0 3 4 1\n",
            " 3 2 3 0 2 2 0 3 0 0 2 1 3 3 0 1 4 2 2 0 3 2 4 4 3 1 4 4 2 2 1 0 0 2 2 3 4\n",
            " 1 3 3 4 0 0 3 3 2 4 4 4 2 1 3 3 2 2 0 3 3 3 4 0 0 2 4 3 4 1 0 0 0 4 0 1 0\n",
            " 3 0 1 0 3 3 4 3 0 4 2 1 3 1 0 0 3 4 4 3 3 4 1 0 1 4 3 3 1 1 2 2 1 1 4 3 3\n",
            " 0 3 1 3 3 1 3 2 3 3 3 4 4 4 0 0 2 2 4 1 2 2 3 4 4 2 2 1 0 2 2 1 1 1 3 1 3\n",
            " 2 0 0 4 0 2 0 4 2 0 3 3 1 0 3 0 1 0 2 4 2 3 4 2 3 4 2 2 4 4 3 0 0 0 0 0 0\n",
            " 1 2 0 0 1 0 4 1 1 0 2 1 0 4 0 3 1 2 3 2 1 2 3 1 4 3 2 4 0 3 3 3 1 3 2 3 0\n",
            " 4 1 1 1 3 3 2 0 2 4 0 2 3 0 4 2 3 0 0 0 3 0 4 0 0 1 0 3 2 3 4 4 0 1 2 3 4\n",
            " 0 4 2 0 4 4 1 3 2 3 1 0 4 3 1 0 3 1 4 0 3 3 0 4 0 0 4 2 1 3 3 1 4 4 2 4 0\n",
            " 1]\n",
            "[[101   0   3   1   0]\n",
            " [  2  79   0   2   2]\n",
            " [  2   0  74   0   1]\n",
            " [  1   3   0  98   0]\n",
            " [  3   0   0   1  72]]\n",
            "              precision    recall  f1-score   support\n",
            "\n",
            "           0       0.93      0.96      0.94       105\n",
            "           1       0.96      0.93      0.95        85\n",
            "           2       0.96      0.96      0.96        77\n",
            "           3       0.96      0.96      0.96       102\n",
            "           4       0.96      0.95      0.95        76\n",
            "\n",
            "    accuracy                           0.95       445\n",
            "   macro avg       0.95      0.95      0.95       445\n",
            "weighted avg       0.95      0.95      0.95       445\n",
            "\n"
          ]
        },
        {
          "output_type": "execute_result",
          "data": {
            "text/plain": [
              "<matplotlib.axes._subplots.AxesSubplot at 0x7fdfb5f18c90>"
            ]
          },
          "metadata": {},
          "execution_count": 27
        },
        {
          "output_type": "display_data",
          "data": {
            "image/png": "[encoded data removed]",
            "text/plain": [
              "<Figure size 432x288 with 2 Axes>"
            ]
          },
          "metadata": {
            "needs_background": "light"
          }
        }
      ]
    },
    {
      "cell_type": "code",
      "source": [
        "sb.heatmap(confusion_matrix(y_test,mnb_predictions),annot=True)"
      ],
      "metadata": {
        "id": "qgAE4MIYS6XG",
        "colab": {
          "base_uri": "https://localhost:8080/",
          "height": 285
        },
        "outputId": "d076a3f9-195e-4103-ef96-ac9f627947b9"
      },
      "execution_count": 28,
      "outputs": [
        {
          "output_type": "execute_result",
          "data": {
            "text/plain": [
              "<matplotlib.axes._subplots.AxesSubplot at 0x7fdfb5b807d0>"
            ]
          },
          "metadata": {},
          "execution_count": 28
        },
        {
          "output_type": "display_data",
          "data": {
            "image/png": "[encoded data removed]",
            "text/plain": [
              "<Figure size 432x288 with 2 Axes>"
            ]
          },
          "metadata": {
            "needs_background": "light"
          }
        }
      ]
    }
  ],
  "metadata": {
    "colab": {
      "collapsed_sections": [],
      "name": "naivebayesmodel.ipynb",
      "provenance": [],
      "authorship_tag": "ABX9TyOFWCrvcigMY2YmCcazffjA",
      "include_colab_link": true
    },
    "kernelspec": {
      "display_name": "Python 3",
      "name": "python3"
    },
    "language_info": {
      "name": "python"
    }
  },
  "nbformat": 4,
  "nbformat_minor": 0
}